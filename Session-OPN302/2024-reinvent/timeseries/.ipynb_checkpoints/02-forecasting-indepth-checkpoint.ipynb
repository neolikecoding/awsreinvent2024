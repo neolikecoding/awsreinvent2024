{
 "cells": [
  {
   "attachments": {},
   "cell_type": "markdown",
   "id": "b0f6df2b",
   "metadata": {},
   "source": [
    "# AutoGluon Time Series - Forecasting In-depth\n",
    "In this notebook we will discuss the advanced functionality of AutoGluon's `timeseries` module.\n",
    "\n",
    "We will use these features to build a demand forecasting model for grocery sales.\n",
    "\n",
    "This tutorial assumes that you have already completed the [Forecasting Essentials](01-forecasting-essentials.ipynb) notebook."
   ]
  },
  {
   "cell_type": "code",
   "execution_count": null,
   "id": "3ac320d7",
   "metadata": {},
   "outputs": [],
   "source": [
    "!pip install -q uv\n",
    "# Use CPU version of PyTorch for faster installation\n",
    "!uv pip install torch==2.5 torchvision --index-url https://download.pytorch.org/whl/cpu\n",
    "!uv pip install autogluon==1.2"
   ]
  },
  {
   "cell_type": "code",
   "execution_count": null,
   "id": "4a45b53f",
   "metadata": {},
   "outputs": [],
   "source": [
    "import matplotlib.pyplot as plt  # for plotting only\n",
    "import pandas as pd\n",
    "from autogluon.timeseries import TimeSeriesDataFrame, TimeSeriesPredictor"
   ]
  },
  {
   "cell_type": "markdown",
   "id": "bd7aef5f",
   "metadata": {},
   "source": [
    "## Forecasting time series with additional information\n",
    "In real-world forecasting problems we often have access to additional information, beyond just the historic time series values.\n",
    "AutoGluon supports two types of such additional information: static features and time-varying covariates."
   ]
  },
  {
   "cell_type": "markdown",
   "id": "03a97c60",
   "metadata": {},
   "source": [
    "### Static features\n",
    "Static features are the time-independent attributes (metadata) of a time series.\n",
    "These may include information such as:\n",
    "\n",
    "- location, where the time series was recorded (country, state, city)\n",
    "- fixed properties of a product (brand name, color, size, weight)\n",
    "- store ID or product ID\n",
    "\n",
    "Providing this information may, for instance, help forecasting models generate similar demand forecasts for stores located in the same city."
   ]
  },
  {
   "cell_type": "markdown",
   "id": "069db306",
   "metadata": {},
   "source": [
    "### Time-varying covariates\n",
    "Covariates are the time-varying features that may influence the target time series.\n",
    "They are sometimes also referred to as dynamic features, exogenous regressors, or related time series.\n",
    "AutoGluon supports two types of covariates:\n",
    "\n",
    "- *known* covariates that are known for the entire forecast horizon, such as\n",
    "    - holidays\n",
    "    - day of the week, month, year\n",
    "    - promotions\n",
    "\n",
    "- *past* covariates that are only known up to the start of the forecast horizon, such as\n",
    "    - sales of other products\n",
    "    - temperature, precipitation\n",
    "    - transformed target time series\n",
    "\n",
    "\n",
    "![Target time series with one past covariate and one known covariate.](https://autogluon-timeseries-datasets.s3.us-west-2.amazonaws.com/public/figures/forecasting-indepth5.png)\n",
    "\n",
    "In AutoGluon, both `known_covariates` and `past_covariates` are stored as additional columns in the `TimeSeriesDataFrame`.\n"
   ]
  },
  {
   "cell_type": "markdown",
   "id": "4ca6a4e7",
   "metadata": {},
   "source": [
    "### Example: Grocery sales data\n",
    "For example, let's have a look at the grocery sales dataset. The dataset contains weekly sales data for various food items sold at different stores.\n"
   ]
  },
  {
   "cell_type": "code",
   "execution_count": null,
   "id": "624a7b97",
   "metadata": {},
   "outputs": [],
   "source": [
    "df = pd.read_csv(\"https://autogluon.s3.us-west-2.amazonaws.com/datasets/timeseries/grocery_sales/test.csv\")\n",
    "df"
   ]
  },
  {
   "cell_type": "markdown",
   "id": "24778eb2",
   "metadata": {},
   "source": [
    "As usual, `item_id` contains the unique identifier of each time series and `timestamp` contains the timestamps of the observations.\n",
    "The `unit_sales` column is the target time series that we want to forecast.\n",
    "\n",
    "We will use the remaining columns as the time-varying covariates:\n",
    "- `scaled_price` - scaled price of each product on the given week\n",
    "- `promotion_email`, `promotion_homepage` - binary indicators that show whether the product was promoted in an email / on the homepage during the given week"
   ]
  },
  {
   "cell_type": "code",
   "execution_count": null,
   "id": "6fa72376",
   "metadata": {},
   "outputs": [],
   "source": [
    "df.describe().round(2)"
   ]
  },
  {
   "cell_type": "markdown",
   "id": "b3f21c89",
   "metadata": {},
   "source": [
    "Now we load an additional table containing the static (time-independent) features of the time series."
   ]
  },
  {
   "cell_type": "code",
   "execution_count": null,
   "id": "d19f6d0c",
   "metadata": {},
   "outputs": [],
   "source": [
    "static_df = pd.read_csv(\"https://autogluon.s3.us-west-2.amazonaws.com/datasets/timeseries/grocery_sales/static.csv\")\n",
    "static_df"
   ]
  },
  {
   "cell_type": "markdown",
   "id": "1f660461",
   "metadata": {},
   "source": [
    "This table contains the time-independent attributes of each time series, indicating the type of the product and the location code of the store where it is sold.\n",
    "\n",
    "------"
   ]
  },
  {
   "cell_type": "markdown",
   "id": "aede360e",
   "metadata": {},
   "source": [
    "We need to convert the data into a `TimeSeriesDataFrame` to use it in AutoGluon."
   ]
  },
  {
   "cell_type": "code",
   "execution_count": null,
   "id": "2f88c5b6",
   "metadata": {},
   "outputs": [],
   "source": [
    "full_data = TimeSeriesDataFrame.from_data_frame(\n",
    "    df,\n",
    "    id_column=\"item_id\",\n",
    "    timestamp_column=\"timestamp\",\n",
    "    static_features_df=static_df,\n",
    ")"
   ]
  },
  {
   "cell_type": "markdown",
   "id": "9e9b8b43",
   "metadata": {},
   "source": [
    "The `TimeSeriesDataFrame` that we created now holds both the dynamic and the static features of the dataset."
   ]
  },
  {
   "cell_type": "code",
   "execution_count": null,
   "id": "47df13cb",
   "metadata": {},
   "outputs": [],
   "source": [
    "full_data.head()"
   ]
  },
  {
   "cell_type": "code",
   "execution_count": null,
   "id": "a51ab1b5",
   "metadata": {},
   "outputs": [],
   "source": [
    "full_data.static_features.head()"
   ]
  },
  {
   "cell_type": "markdown",
   "id": "d3b1ad04",
   "metadata": {},
   "source": [
    "### Train-test split\n",
    "Currently, `full_data` contains all the available historic sales data. We will use the last 4 weeks of observations as a **test set** (not used during training) to measure the performance of the trained predictor.\n",
    "\n",
    "This is very important to get a fair estimate of the performance. If we compute the scores on the same data as we used for training, our results would be overly optimistic - the predictor could have \"memorized\" the training data in a way that does not generalize into the future."
   ]
  },
  {
   "cell_type": "code",
   "execution_count": null,
   "id": "d3d5bac0",
   "metadata": {},
   "outputs": [],
   "source": [
    "prediction_length = 4  # we will forecast 4 weeks into the future\n",
    "train_data, test_data = full_data.train_test_split(prediction_length=prediction_length)"
   ]
  },
  {
   "cell_type": "code",
   "execution_count": null,
   "id": "17081215",
   "metadata": {},
   "outputs": [],
   "source": [
    "predictor = TimeSeriesPredictor(\n",
    "    prediction_length=prediction_length,\n",
    "    target=\"unit_sales\",\n",
    ")\n",
    "predictor.fit(\n",
    "    train_data,\n",
    "    presets=\"medium_quality\",\n",
    "    time_limit=120,\n",
    ")"
   ]
  },
  {
   "cell_type": "markdown",
   "id": "0a3218bd",
   "metadata": {},
   "source": [
    "Now, we evaluate the trained models on the held-out test data."
   ]
  },
  {
   "cell_type": "code",
   "execution_count": null,
   "id": "be26616b",
   "metadata": {},
   "outputs": [],
   "source": [
    "predictor.leaderboard(test_data)"
   ]
  },
  {
   "cell_type": "markdown",
   "id": "7f5d5eeb",
   "metadata": {},
   "source": [
    "Let's have a closer look at the predictor logs to understand how it interpreted the different features.\n",
    "```\n",
    "...\n",
    "Provided data contains following columns:\n",
    "\ttarget: 'unit_sales'\n",
    "\tpast_covariates:\n",
    "\t\tcategorical:        []\n",
    "\t\tcontinuous (float): ['scaled_price', 'promotion_email', 'promotion_homepage']\n",
    "\tstatic_features:\n",
    "\t\tcategorical:        ['product_category', 'product_subcategory']\n",
    "\t\tcontinuous (float): ['product_code', 'location_code']\n",
    "...\n",
    "```\n",
    "We notice a few problems here.\n",
    "\n",
    "First, the columns `'scaled_price'`, `'promotion_email'` and `'promotion_homepage'` were used as past covariates, even though we know these columns in advance (we decide how to set the price or whether to run a promotion). \n",
    "\n",
    "To fix this problem, we need to explicitly state that these columns are known using the `known_covariates_names` argument when creating the predictor."
   ]
  },
  {
   "cell_type": "code",
   "execution_count": null,
   "id": "8cbb197a",
   "metadata": {},
   "outputs": [],
   "source": [
    "predictor_fixed = TimeSeriesPredictor(\n",
    "    prediction_length=prediction_length,\n",
    "    target=\"unit_sales\",\n",
    "    known_covariates_names=[\"scaled_price\", \"promotion_email\", \"promotion_homepage\"],\n",
    ")"
   ]
  },
  {
   "cell_type": "markdown",
   "id": "8e29c9f1",
   "metadata": {},
   "source": [
    "The second problem is that the static features `product_code` and `location_code` (originally of integer type) are interpreted as continuous attributes, even though they are meant to be used as categorical features.\n",
    "\n",
    "To fix this problem, we need to explicitly set their type to `\"category\"`."
   ]
  },
  {
   "cell_type": "code",
   "execution_count": null,
   "id": "f91ba4b3",
   "metadata": {},
   "outputs": [],
   "source": [
    "train_data.static_features[\"product_code\"] = train_data.static_features[\"product_code\"].astype(\"category\")\n",
    "train_data.static_features[\"location_code\"] = train_data.static_features[\"location_code\"].astype(\"category\")"
   ]
  },
  {
   "cell_type": "markdown",
   "id": "239a4189",
   "metadata": {},
   "source": [
    "Now let's train the new predictor after we fixed the data issues."
   ]
  },
  {
   "cell_type": "code",
   "execution_count": null,
   "id": "a2c5b32a",
   "metadata": {},
   "outputs": [],
   "source": [
    "predictor_fixed.fit(train_data, presets=\"medium_quality\", time_limit=120)"
   ]
  },
  {
   "cell_type": "code",
   "execution_count": null,
   "id": "645963b4",
   "metadata": {},
   "outputs": [],
   "source": [
    "predictor_fixed.leaderboard(test_data)"
   ]
  },
  {
   "cell_type": "markdown",
   "id": "88352a3d",
   "metadata": {},
   "source": [
    "### Predicting with known covariates\n",
    "When creating the predictor, we said that columns listed under `known_covariates` will be known in the future.\n",
    "Therefore, when we call `predict`, we need to provide the future values of these columns.\n",
    "\n",
    "The `known_covariates` must contain information for the `prediction_length` following the last observations in `train_data`"
   ]
  },
  {
   "cell_type": "code",
   "execution_count": null,
   "id": "ceecacfc",
   "metadata": {},
   "outputs": [],
   "source": [
    "train_data.tail()"
   ]
  },
  {
   "cell_type": "markdown",
   "id": "30a9c22f",
   "metadata": {},
   "source": [
    "We can get this information by selecting the necessary columns from the test data that we set aside before."
   ]
  },
  {
   "cell_type": "code",
   "execution_count": null,
   "id": "bb7ee29b",
   "metadata": {},
   "outputs": [],
   "source": [
    "future_data = test_data.slice_by_timestep(-prediction_length, None)  # select the last prediction_length values of each time series\n",
    "known_covariates = future_data.drop(columns=[predictor.target])\n",
    "known_covariates.head()"
   ]
  },
  {
   "cell_type": "code",
   "execution_count": null,
   "id": "3a72b03f",
   "metadata": {},
   "outputs": [],
   "source": [
    "predictions = predictor.predict(train_data, known_covariates=known_covariates)\n",
    "predictions.head()"
   ]
  },
  {
   "cell_type": "markdown",
   "id": "e0578598",
   "metadata": {},
   "source": [
    "### Feature importance"
   ]
  },
  {
   "cell_type": "markdown",
   "id": "30c9d6a8",
   "metadata": {},
   "source": [
    "We see that the new predictor with `known_covariates` achieves a much better test score than before!\n",
    "\n",
    "This means that the features are quite important for improving the forecast accuracy. But which ones are the most important here? \n",
    "\n",
    "We can answer this question using the `feature_importance()` method."
   ]
  },
  {
   "cell_type": "code",
   "execution_count": null,
   "id": "d6a34a67",
   "metadata": {},
   "outputs": [],
   "source": [
    "feat_importance = predictor_fixed.feature_importance(test_data)\n",
    "feat_importance.sort_values(by=\"importance\", ascending=False)"
   ]
  },
  {
   "cell_type": "markdown",
   "id": "755c9700",
   "metadata": {},
   "source": [
    "We see that `scaled_price` and `product_code` are the most informative features in this dataset, and removing them would result in a significant drop in accuracy.\n",
    "\n",
    "For more information on how the feature importance algorithm works in AutoGluon, check out the [documentation page](https://auto.gluon.ai/stable/api/autogluon.timeseries.TimeSeriesPredictor.feature_importance.html)."
   ]
  },
  {
   "cell_type": "markdown",
   "id": "7541debf",
   "metadata": {},
   "source": [
    "## Challenge: Investigate the effect of the `eval_metric`\n",
    "Now let's put our knowledge to practice to better understand how AutoGluon works.\n",
    "\n",
    "In this challenge, you need to complete the following steps:\n",
    "1. Train two predictors\n",
    "    - one with `eval_metric=\"SQL\"` ([scaled quantile loss](https://auto.gluon.ai/stable/tutorials/timeseries/forecasting-metrics.html#autogluon.timeseries.metrics.SQL)), an evaluation metric for probabilistic forecasts\n",
    "    - another with `eval_metric=\"RMSE\"` ([root mean squared error](https://auto.gluon.ai/stable/tutorials/timeseries/forecasting-metrics.html#autogluon.timeseries.metrics.RMSE)), an evaluation metric for point forecasts\n",
    "2. Compute the `SQL` and `RMSE` metrics on the `test_data` for both predictors."
   ]
  },
  {
   "cell_type": "code",
   "execution_count": null,
   "id": "e78babd4",
   "metadata": {},
   "outputs": [],
   "source": [
    "# Your code here"
   ]
  },
  {
   "cell_type": "markdown",
   "id": "a33c4550",
   "metadata": {},
   "source": [
    "If you don't feel like writing the code yourself, click on the next section to reveal one possible implementation."
   ]
  },
  {
   "cell_type": "markdown",
   "id": "5decc899",
   "metadata": {},
   "source": [
    "### Challenge solution"
   ]
  },
  {
   "cell_type": "code",
   "execution_count": null,
   "id": "a0cc0227",
   "metadata": {},
   "outputs": [],
   "source": [
    "metrics = [\"SQL\", \"RMSE\"]\n",
    "predictor_for_metric = {}\n",
    "for metric in metrics:\n",
    "    predictor_for_metric[metric] = TimeSeriesPredictor(\n",
    "        prediction_length=prediction_length,\n",
    "        target=\"unit_sales\",\n",
    "        known_covariates_names=[\"scaled_price\", \"promotion_email\", \"promotion_homepage\"],\n",
    "        eval_metric=metric,\n",
    "        path=f\"predictor-{metric}\",\n",
    "    ).fit(train_data, presets=\"medium_quality\", time_limit=120)"
   ]
  },
  {
   "cell_type": "code",
   "execution_count": null,
   "id": "a9a842b6",
   "metadata": {},
   "outputs": [],
   "source": [
    "for metric in metrics:\n",
    "    scores = predictor_for_metric[metric].evaluate(test_data, metrics=metrics)\n",
    "    print(f\"Predictor trained with `eval_metric='{metric}'`: {scores}\")"
   ]
  },
  {
   "cell_type": "markdown",
   "id": "762c403d",
   "metadata": {},
   "source": [
    "### Discussion\n",
    "We can observe that the predictor trained with the `SQL` metric achieves better `SQL` on the test set. Similarly, the predictor trained with `RMSE` achieves better `RMSE` on the test set.\n",
    "\n",
    "When fitting `WeightedEnsemble`, AutoGluon looks for the combination of models that optimizes the chosen `eval_metric`. Not surprisingly, different models are selected when different metrics are used to measure accuracy. The resulting ensembles are tailored specifically to the metrics that they were trained with.\n"
   ]
  },
  {
   "cell_type": "markdown",
   "id": "e1344ff2",
   "metadata": {},
   "source": [
    "## Advanced configuration options"
   ]
  },
  {
   "cell_type": "markdown",
   "id": "f5104ac5",
   "metadata": {},
   "source": [
    "### Basic configuration with `presets` and `time_limit`\n",
    "We can fit `TimeSeriesPredictor` with different pre-defined configurations using the `presets` argument of the `fit` method.\n",
    "\n",
    "```python\n",
    "predictor = TimeSeriesPredictor(...)\n",
    "predictor.fit(train_data, presets=\"medium_quality\")\n",
    "```\n",
    "\n",
    "Higher quality presets usually result in better forecasts but take longer to train.\n",
    "The following presets are available:\n",
    "\n",
    "| Preset         | Description                                          | Use Cases                                                                                                                                               | Fit Time (Ideal) | \n",
    "| :------------- | :----------------------------------------------------- | :------------------------------------------------------------------------------------------------------------------------------------------------------ | :--------------- | \n",
    "| `fast_training`  | Fit simple statistical and baseline models + fast tree-based models   | Fast to train but may not be very accurate   |  0.5x |\n",
    "| `medium_quality` | Same models as in `fast_training` + deep learning model `TemporalFusionTransformer`           | Good forecasts with reasonable training time         | 1x             |\n",
    "| `high_quality`   | More powerful deep learning, machine learning, and statistical forecasting models   | Much more accurate than ``medium_quality``, but takes longer to train | 3x |\n",
    "| `best_quality`   | Same models as in `high_quality`, more cross-validation windows | Typically more accurate than `high_quality`, especially for datasets with few (<50) time series | 6x             |\n",
    "\n",
    "You can find more information about the [presets](https://github.com/autogluon/autogluon/blob/stable/timeseries/src/autogluon/timeseries/configs/presets_configs.py) and the [models includes in each preset](https://github.com/autogluon/autogluon/blob/stable/timeseries/src/autogluon/timeseries/models/presets.py#L109) in the AutoGluon source code.\n",
    "\n",
    "Another way to control the training time is using the `time_limit` argument.\n",
    "\n",
    "```python\n",
    "predictor.fit(\n",
    "    train_data,\n",
    "    time_limit=60 * 60,  # total training time in seconds\n",
    ")\n",
    "```\n",
    "\n",
    "If no `time_limit` is provided, the predictor will train until all models have been fit.\n",
    "\n",
    "\n",
    "### Manually configuring models\n",
    "Advanced users can override the presets and manually specify what models should be trained by the predictor using the `hyperparameters` argument.\n",
    "\n",
    "```python\n",
    "predictor = TimeSeriesPredictor(...)\n",
    "\n",
    "predictor.fit(\n",
    "    ...\n",
    "    hyperparameters={\n",
    "        \"DeepAR\": {},\n",
    "        \"Theta\": [\n",
    "            {\"decomposition_type\": \"additive\"},\n",
    "            {\"seasonal_period\": 1},\n",
    "        ],\n",
    "    }\n",
    ")\n",
    "```\n",
    "\n",
    "The above example will train three models:\n",
    "\n",
    "* ``DeepAR`` with default hyperparameters\n",
    "* ``Theta`` with additive seasonal decomposition (all other parameters set to their defaults)\n",
    "* ``Theta`` with seasonality disabled (all other parameters set to their defaults)\n",
    "\n",
    "You can also exclude certain models from the presets using the `excluded_model_type` argument.\n",
    "```python\n",
    "predictor.fit(\n",
    "    ...\n",
    "    presets=\"high_quality\",\n",
    "    excluded_model_types=[\"AutoETS\", \"AutoARIMA\"],\n",
    ")\n",
    "```\n",
    "\n",
    "For the full list of available models and the respective hyperparameters, see [Forecasting Model Zoo](https://auto.gluon.ai/stable/tutorials/timeseries/forecasting-model-zoo.html)."
   ]
  },
  {
   "cell_type": "markdown",
   "id": "b067f794",
   "metadata": {},
   "source": [
    "## Chronos - a foundation model for time series forecsating\n",
    "AutoGluon-TimeSeries (AG-TS) includes [Chronos](https://github.com/amazon-science/chronos-forecasting) family of forecasting models. Chronos models are pretrained on a large collection of real & synthetic time series data, which enables them to make accurate forecasts on new data out of the box.\n",
    "\n",
    "AG-TS provides a robust and easy way to use Chronos through the familiar `TimeSeriesPredictor` API."
   ]
  },
  {
   "cell_type": "markdown",
   "id": "970da50c",
   "metadata": {},
   "source": [
    "### Getting started with Chronos\n",
    "\n",
    "Being a pretrained model for zero-shot forecasting, Chronos is different from other models available in AG-TS. \n",
    "Specifically, Chronos models do not really `fit` time series data. However, when `predict` is called, they carry out a relatively more expensive computation that scales linearly with the number of time series in the dataset. In this aspect, they behave like local statistical models such as ETS or ARIMA, where all computation happens during inference. \n",
    "\n",
    "AutoGluon supports both the original Chronos models (e.g., [`chronos-t5-large`](https://huggingface.co/autogluon/chronos-t5-large)), as well as the new, more accurate and up to 250x faster Chronos-Bolt⚡ models (e.g., [`chronos-bolt-base`](https://huggingface.co/autogluon/chronos-bolt-base)). \n",
    "\n",
    "The easiest way to get started with Chronos is through the model-specific presets. \n",
    "\n",
    "- **(recommended)** The new, fast Chronos-Bolt️ models can be accessed using the `\"bolt_tiny\"`, `\"bolt_mini\"`, `\"bolt_small\"` and `\"bolt_base\"` presets.\n",
    "- The original Chronos models can be accessed using the `\"chronos_tiny\"`, `\"chronos_mini\"`, `\"chronos_small\"`, `\"chronos_base\"` and `\"chronos_large\"` presets.\n",
    "\n",
    "Note that the original Chronos models of size `small` and above require a GPU to run, while all Chronos-Bolt models can be run both on a CPU and a GPU.\n",
    "\n",
    "Alternatively, Chronos can be combined with other time series models using presets `\"medium_quality\"`, `\"high_quality\"` and `\"best_quality\"`. More details about these presets are available in the documentation for [`TimeSeriesPredictor.fit`](https://auto.gluon.ai/stable/api/autogluon.timeseries.TimeSeriesPredictor.fit.html)."
   ]
  },
  {
   "cell_type": "markdown",
   "id": "49898f69",
   "metadata": {},
   "source": [
    "### Zero-shot forecasting with Chronos\n",
    "We create the [TimeSeriesPredictor](https://auto.gluon.ai/stable/api/autogluon.timeseries.TimeSeriesPredictor.html) and select the `\"bolt_small\"` presets to use the Chronos-Bolt (Small, 48M) model in zero-shot mode."
   ]
  },
  {
   "cell_type": "code",
   "execution_count": null,
   "id": "fbb74ebb",
   "metadata": {},
   "outputs": [],
   "source": [
    "predictor = TimeSeriesPredictor(\n",
    "    prediction_length=prediction_length,\n",
    "    target=\"unit_sales\",\n",
    ").fit(\n",
    "    train_data,\n",
    "    presets=\"bolt_small\",\n",
    ")"
   ]
  },
  {
   "cell_type": "markdown",
   "id": "134dded4",
   "metadata": {},
   "source": [
    "As promised, Chronos does not take any time to `fit`. The `fit` call merely serves as a proxy for the `TimeSeriesPredictor` to do some of its chores under the hood, such as inferring the frequency of time series and saving the predictor's state to disk. \n",
    "\n",
    "Let's use the `predict` method to generate forecasts, and the `plot` method to visualize them."
   ]
  },
  {
   "cell_type": "code",
   "execution_count": null,
   "id": "6b7210dd",
   "metadata": {},
   "outputs": [],
   "source": [
    "predictions = predictor.predict(train_data)\n",
    "predictor.plot(\n",
    "    data=test_data,\n",
    "    predictions=predictions,\n",
    "    item_ids=test_data.item_ids[:2],  # plot first two items\n",
    ");\n",
    "plt.show()"
   ]
  },
  {
   "cell_type": "markdown",
   "id": "f7f651ae",
   "metadata": {},
   "source": [
    "In the above example we used Chronos for zero-shot forecasting. In this mode, the pretrained model is used to directly generate predictions on new data out of the box. This is the simplest and fastest way to generate predictions with Chronos.\n",
    "\n",
    "In several [independent evaluations](https://arxiv.org/abs/2403.07815) we found Chronos to be effective in zero-shot forecasting. \n",
    "The accuracy of Chronos-Bolt (base) often exceeds statistical baseline models, and is often comparable to deep learning  models such as `TemporalFusionTransformer` or `PatchTST`.\n",
    "\n",
    "### Beyond zero-shot forecasting\n",
    "\n",
    "In addition to zero-shot forecasting, AutoGluon provides advanced features that can improve the accuracy of Chronos models:\n",
    "- **Fine-tuning** Chronos models on custom data to improve the accuracy\n",
    "- Handling **covariates & static features** by combining Chronos with a tabular regression model\n",
    "\n",
    "You can learn more about these features in the [Forecasting with Chronos tutorial](https://auto.gluon.ai/stable/tutorials/timeseries/forecasting-chronos.html)."
   ]
  },
  {
   "cell_type": "markdown",
   "id": "3404478a",
   "metadata": {},
   "source": [
    "## Next Steps\n",
    "\n",
    "Please continue to the next workshop section **\"Train and deploy AutoGluon predictors on SageMaker\"** on Workshop Studio."
   ]
  }
 ],
 "metadata": {
  "kernelspec": {
   "display_name": "ag",
   "language": "python",
   "name": "python3"
  },
  "language_info": {
   "codemirror_mode": {
    "name": "ipython",
    "version": 3
   },
   "file_extension": ".py",
   "mimetype": "text/x-python",
   "name": "python",
   "nbconvert_exporter": "python",
   "pygments_lexer": "ipython3",
   "version": "3.10.13"
  }
 },
 "nbformat": 4,
 "nbformat_minor": 5
}
