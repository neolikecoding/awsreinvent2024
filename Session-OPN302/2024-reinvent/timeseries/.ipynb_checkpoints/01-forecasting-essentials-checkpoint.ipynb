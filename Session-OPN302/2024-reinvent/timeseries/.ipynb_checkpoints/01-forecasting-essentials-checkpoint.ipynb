{
 "cells": [
  {
   "attachments": {},
   "cell_type": "markdown",
   "id": "b0f6df2b",
   "metadata": {},
   "source": [
    "# AutoGluon Time Series - Forecasting Essentials\n",
    "In this notebook we will cover the essential functionality of AutoGluon's `timeseries` module.\n",
    "\n",
    "We will see how with a single `fit()` call, AutoGluon can train various forecasting models and combine them into a powerful ensemble.\n",
    "\n",
    "Throughout this notebook, we will work with the [UCI Electricity Load dataset](https://archive.ics.uci.edu/dataset/321/electricityloaddiagrams20112014) and use it to build a forecasting model for electricity consumption."
   ]
  },
  {
   "cell_type": "markdown",
   "id": "69cfae50",
   "metadata": {},
   "source": [
    "\n",
    "## Loading time series data as a `TimeSeriesDataFrame`\n",
    "\n",
    "First, we import some required modules"
   ]
  },
  {
   "cell_type": "code",
   "execution_count": null,
   "id": "aa00faab-252f-44c9-b8f7-57131aa8251c",
   "metadata": {
    "tags": []
   },
   "outputs": [],
   "source": [
    "!pip install -q uv\n",
    "# Use CPU version of PyTorch for faster installation\n",
    "!uv pip install torch==2.5 torchvision --index-url https://download.pytorch.org/whl/cpu\n",
    "!uv pip install autogluon==1.2"
   ]
  },
  {
   "cell_type": "code",
   "execution_count": null,
   "id": "843dc3c2",
   "metadata": {},
   "outputs": [],
   "source": [
    "import matplotlib.pyplot as plt  # for plotting only\n",
    "import pandas as pd\n",
    "from autogluon.timeseries import TimeSeriesDataFrame, TimeSeriesPredictor"
   ]
  },
  {
   "attachments": {},
   "cell_type": "markdown",
   "id": "519d689a",
   "metadata": {},
   "source": [
    "To use `autogluon.timeseries`, we will only need the following two classes:\n",
    "\n",
    "- `TimeSeriesDataFrame` stores a dataset consisting of multiple time series.\n",
    "- `TimeSeriesPredictor` takes care of fitting, tuning and selecting the best forecasting models, as well as generating new forecasts.\n",
    "\n",
    "First, we load a subset of the [UCI Electricity Load](https://archive.ics.uci.edu/dataset/321/electricityloaddiagrams20112014) dataset as a `pandas.DataFrame`. "
   ]
  },
  {
   "cell_type": "code",
   "execution_count": null,
   "id": "4bcd73a8",
   "metadata": {},
   "outputs": [],
   "source": [
    "df = pd.read_csv(\"https://autogluon.s3.us-west-2.amazonaws.com/datasets/timeseries/electricity_small/train.csv\")\n",
    "df"
   ]
  },
  {
   "attachments": {},
   "cell_type": "markdown",
   "id": "a64ddd43",
   "metadata": {},
   "source": [
    "AutoGluon expects time series data in [long format](https://doc.dataiku.com/dss/latest/time-series/data-formatting.html#long-format).\n",
    "Each row of the data frame contains a single observation (timestep) of a single time series represented by\n",
    "\n",
    "- unique ID of the time series (`\"item_id\"`) as int or str\n",
    "- timestamp of the observation (`\"timestamp\"`) as a `pandas.Timestamp` or compatible format\n",
    "- numeric value of the time series (`\"target\"`)\n",
    "\n",
    "The raw dataset should always follow this format with at least three columns for unique ID, timestamp, and target value, but the names of these columns can be arbitrary.\n",
    "It is important, however, that we provide the names of the columns when constructing a `TimeSeriesDataFrame` that is used by AutoGluon.\n",
    "AutoGluon will raise an exception if the data doesn't match the expected format."
   ]
  },
  {
   "cell_type": "code",
   "execution_count": null,
   "id": "d73ddcc9",
   "metadata": {},
   "outputs": [],
   "source": [
    "train_data = TimeSeriesDataFrame.from_data_frame(\n",
    "    df,\n",
    "    id_column=\"item_id\",\n",
    "    timestamp_column=\"timestamp\"\n",
    ")\n",
    "train_data"
   ]
  },
  {
   "attachments": {},
   "cell_type": "markdown",
   "id": "bfee8b9b",
   "metadata": {},
   "source": [
    "We refer to each individual time series stored in a `TimeSeriesDataFrame` as an _item_.\n",
    "For example, items might correspond to different products in demand forecasting, or to different stocks in financial datasets.\n",
    "This setting is also referred to as a _panel_ of time series.\n",
    "Note that this is *not* the same as multivariate forecasting — AutoGluon generates forecasts for each time series individually, without modeling interactions between different items (time series).\n",
    "\n",
    "`TimeSeriesDataFrame` inherits from [pandas.DataFrame](https://pandas.pydata.org/pandas-docs/stable/reference/api/pandas.DataFrame.html), so all attributes and methods of `pandas.DataFrame` are available in a `TimeSeriesDataFrame`.\n",
    "It also provides other utility functions, such as loaders for different data formats (see [TimeSeriesDataFrame](https://auto.gluon.ai/stable/api/autogluon.timeseries.TimeSeriesDataFrame.html) for details)."
   ]
  },
  {
   "cell_type": "markdown",
   "id": "4af29a33",
   "metadata": {},
   "source": [
    "## Training time series models with `TimeSeriesPredictor.fit`\n",
    "To forecast future values of the time series, we first need to create a `TimeSeriesPredictor` object.\n",
    "\n",
    "Models in `autogluon.timeseries` forecast time series _multiple steps_ into the future.\n",
    "We choose the number of these steps — the _prediction length_ (also known as the _forecast horizon_) —  depending on our task.\n",
    "For example, our dataset contains time series measured at hourly _frequency_, so we set `prediction_length = 48` to train models that forecast up to 48 hours into the future.\n",
    "\n",
    "We instruct AutoGluon to save trained models in the folder `./autogluon-electricity`.\n",
    "We also specify that AutoGluon should rank models according to [mean absolute scaled error (MASE)](https://en.wikipedia.org/wiki/Mean_absolute_scaled_error), and that data that we want to forecast is stored in the column `\"target\"` of the `TimeSeriesDataFrame`."
   ]
  },
  {
   "cell_type": "code",
   "execution_count": null,
   "id": "f7ef668c",
   "metadata": {},
   "outputs": [],
   "source": [
    "predictor = TimeSeriesPredictor(\n",
    "    prediction_length=48,\n",
    "    path=\"autogluon-electricity\",\n",
    "    target=\"target\",\n",
    "    eval_metric=\"MASE\",\n",
    ")"
   ]
  },
  {
   "cell_type": "markdown",
   "id": "96ff5bb7",
   "metadata": {},
   "source": [
    "Before we start training the predictor, let's plot some of the time series in the dataset to see what data we are dealing with."
   ]
  },
  {
   "cell_type": "code",
   "execution_count": null,
   "id": "14dcf7f3",
   "metadata": {},
   "outputs": [],
   "source": [
    "predictor.plot(train_data, max_num_item_ids=4, max_history_length=300)\n",
    "plt.show()"
   ]
  },
  {
   "cell_type": "markdown",
   "id": "7f7a83ff",
   "metadata": {},
   "source": [
    "We see that all time series exhibit a strong _seasonality_. That is, the electricity demand pattern for each day is quite similar to the day before.\n",
    "A good forecasting model should be able to capture this periodic pattern. We will soon see that AutoGluon can do that quite well.\n",
    "\n",
    "Many real-world time series datasets exhibit different types of seasonality (e.g., daily or weekly periodicity).\n",
    "Luckily, as AutoGluon users, we don't need to worry about this - AutoGluon will automatically configure the models to use the correct seasonal period based on the frequency of the data.\n",
    "\n",
    "Now that we did some very lightweight data exploration, let's train the predictor!"
   ]
  },
  {
   "cell_type": "code",
   "execution_count": null,
   "id": "de9aac25",
   "metadata": {},
   "outputs": [],
   "source": [
    "predictor.fit(\n",
    "    train_data,\n",
    "    presets=\"medium_quality\",\n",
    "    time_limit=120,\n",
    ")"
   ]
  },
  {
   "attachments": {},
   "cell_type": "markdown",
   "id": "91b3ddd4",
   "metadata": {},
   "source": [
    "Here we used the `\"medium_quality\"` presets and limited the training time to 2 minutes (120 seconds).\n",
    "\n",
    "Presets are high-level configuration options that, among other things, define which models AutoGluon will try to fit.\n",
    "For `medium_quality` presets, these are\n",
    "- simple baselines (`Naive`, `SeasonalNaive`),\n",
    "- statistical models (`ETS`, `Theta`),\n",
    "- tree-based models based on LightGBM (`RecursiveTabular`, `DirectTabular`),\n",
    "- a deep learning model `TemporalFusionTransformer`,\n",
    "- a pretrained model `Chronos-Bolt`\n",
    "- and a weighted ensemble combining these.\n",
    "\n",
    "Other available presets for `TimeSeriesPredictor` are `\"fast_training\"`, `\"high_quality\"` and `\"best_quality\"`.\n",
    "Higher quality presets will usually produce more accurate forecasts but take longer to train.\n",
    "\n",
    "Inside `fit()`, AutoGluon will train as many models as possible within the given time limit.\n",
    "Trained models are then ranked based on their performance on an internal validation set.\n",
    "By default, this validation set is constructed by holding out the last `prediction_length` timesteps of each time series in `train_data`.\n",
    "\n",
    "\n",
    "## Generating forecasts with `TimeSeriesPredictor.predict`\n",
    "\n",
    "We can now use the fitted `TimeSeriesPredictor` to forecast the future time series values.\n",
    "By default, AutoGluon will make forecasts using the model that had the best score on the internal validation set.\n",
    "The forecast always includes predictions for the next `prediction_length` timesteps, starting from the end of each time series in `train_data`."
   ]
  },
  {
   "cell_type": "code",
   "execution_count": null,
   "id": "4a238183",
   "metadata": {},
   "outputs": [],
   "source": [
    "predictions = predictor.predict(train_data)\n",
    "predictions.head().round(3)"
   ]
  },
  {
   "attachments": {},
   "cell_type": "markdown",
   "id": "bfbca161",
   "metadata": {},
   "source": [
    "AutoGluon produces a _probabilistic_ forecast: in addition to predicting the mean (expected value) of the time series in the future, models also provide the quantiles of the forecast distribution.\n",
    "The quantile forecasts give us an idea about the range of possible outcomes.\n",
    "For example, if the `\"0.1\"` quantile is equal to `500.0`, it means that the model predicts a 10% chance that the target value will be below `500.0`.\n",
    "\n",
    "We will now visualize the forecast and the actually observed values for one of the time series in the dataset.\n",
    "We plot the mean forecast, as well as the 10% and 90% quantiles to show the range of potential outcomes."
   ]
  },
  {
   "cell_type": "code",
   "execution_count": null,
   "id": "d2455126",
   "metadata": {},
   "outputs": [],
   "source": [
    "# TimeSeriesDataFrame can also be loaded directly from a file\n",
    "test_data = TimeSeriesDataFrame.from_path(\"https://autogluon.s3.us-west-2.amazonaws.com/datasets/timeseries/electricity_small/test.csv\")\n",
    "\n",
    "# Plot 4 randomly chosen time series and the respective forecasts\n",
    "predictor.plot(test_data, predictions, quantile_levels=[0.1, 0.9], max_history_length=200, max_num_item_ids=4);\n",
    "plt.show()"
   ]
  },
  {
   "attachments": {},
   "cell_type": "markdown",
   "id": "bc2d08f7",
   "metadata": {},
   "source": [
    "## Evaluating the performance of different models\n",
    "\n",
    "We can view the performance of each model AutoGluon has trained via the `leaderboard()` method.\n",
    "We provide the test data set to the leaderboard function to see how well our fitted models are doing on the unseen test data.\n",
    "The leaderboard also includes the validation scores computed on the internal validation dataset.\n",
    "\n",
    "Note the test data includes both the forecast horizon (last `prediction_length` values of each time series) as well as the historic data (all except the last `prediction_last` values).\n",
    "\n",
    "In AutoGluon leaderboards, higher scores always correspond to better predictive performance.\n",
    "Therefore our MASE scores are multiplied by `-1`, such that higher \"negative MASE\"s correspond to more accurate forecasts."
   ]
  },
  {
   "cell_type": "code",
   "execution_count": null,
   "id": "2f4f8e9c",
   "metadata": {},
   "outputs": [],
   "source": [
    "# The test score is computed using the last\n",
    "# prediction_length=48 timesteps of each time series in test_data\n",
    "predictor.leaderboard(test_data)"
   ]
  },
  {
   "cell_type": "markdown",
   "id": "f7cdb0a2",
   "metadata": {},
   "source": [
    "We can also evaluate the performance of the predictor using multiple evaluation metrics with the `evaluate()` method"
   ]
  },
  {
   "cell_type": "code",
   "execution_count": null,
   "id": "9f1ce58e",
   "metadata": {},
   "outputs": [],
   "source": [
    "predictor.evaluate(test_data, metrics=[\"MASE\", \"SQL\", \"RMSE\", \"MAE\"])"
   ]
  },
  {
   "attachments": {},
   "cell_type": "markdown",
   "id": "bd2fdfac",
   "metadata": {},
   "source": [
    "## Recap\n",
    "We used `autogluon.timeseries` to make probabilistic multi-step forecasts on the electricity load dataset. Here is a compact summary of the steps that we completed:\n",
    "\n",
    "```python\n",
    "# 1. Load the data as a TimeSeriesDataFrame\n",
    "train_data = TimeSeriesDataFrame.from_path(\"https://autogluon.s3.us-west-2.amazonaws.com/datasets/timeseries/electricity_small/train.csv\")\n",
    "\n",
    "# 2. Define the forecasting task\n",
    "predictor = TimeSeriesPredictor(prediction_length=48, eval_metric=\"MASE\", target=\"target\")\n",
    "\n",
    "# 3. Fit the predictor\n",
    "predictor.fit(train_data, presets=\"medium_quality\", time_limit=120)\n",
    "\n",
    "# 4. Make predictions\n",
    "predictions = predictor.predict(train_data)\n",
    "\n",
    "# 5. (Optional) Evaluate on the test_data\n",
    "leaderboard = predictor.leaderboard(test_data)\n",
    "```"
   ]
  },
  {
   "cell_type": "markdown",
   "id": "6accacc0",
   "metadata": {},
   "source": [
    "## Next steps\n",
    "Now that we are familiar with the basic functionality AutoGluon-TimeSeries, let's proceed to the next tutorial where will dive into the more advanced features.\n",
    "\n",
    "Next tutorial: [Forecasting In-depth](02-forecasting-indepth.ipynb)."
   ]
  }
 ],
 "metadata": {
  "kernelspec": {
   "display_name": "ag",
   "language": "python",
   "name": "python3"
  },
  "language_info": {
   "codemirror_mode": {
    "name": "ipython",
    "version": 3
   },
   "file_extension": ".py",
   "mimetype": "text/x-python",
   "name": "python",
   "nbconvert_exporter": "python",
   "pygments_lexer": "ipython3",
   "version": "3.10.13"
  }
 },
 "nbformat": 4,
 "nbformat_minor": 5
}
